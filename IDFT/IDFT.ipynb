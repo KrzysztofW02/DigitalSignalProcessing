{
 "cells": [
  {
   "cell_type": "markdown",
   "metadata": {},
   "source": [
    "# **Inverse Discrete Fourier Transform (IDFT) Report - Krzysztof Wąsik**\n",
    "\n",
    "## **1. Introduction**  \n",
    "In this notebook, we implement the Inverse Discrete Fourier Transform (IDFT) using matrix multiplication. IDFT reconstructs a time-domain signal from its frequency-domain representation. The mathematical formulation of IDFT is given by:  \n",
    "\n",
    "$$ x[k] = \\frac{1}{N} \\sum_{\\mu=0}^{N-1} X[\\mu] \\cdot e^{j \\frac{2\\pi}{N} k \\mu} $$"
   ]
  },
  {
   "cell_type": "markdown",
   "metadata": {},
   "source": [
    "## **2. Import Required Libraries**  \n",
    "We first import NumPy for numerical computations and Matplotlib for visualization."
   ]
  },
  {
   "cell_type": "code",
   "execution_count": null,
   "metadata": {},
   "outputs": [],
   "source": [
    "import numpy as np\n",
    "import matplotlib.pyplot as plt"
   ]
  },
  {
   "cell_type": "markdown",
   "metadata": {},
   "source": [
    "## **3. Define Input Frequency Spectrum**  "
   ]
  },
  {
   "cell_type": "code",
   "execution_count": null,
   "metadata": {},
   "outputs": [],
   "source": [
    "mu = np.array([10, 5, 6, 6, 2, 4, 3, 4, 5, 0, 0, 0, 0], dtype=complex)\n",
    "N = len(mu)  # Number of samples"
   ]
  },
  {
   "cell_type": "markdown",
   "metadata": {},
   "source": [
    "## **4. Construct the Fourier Matrix**  \n",
    "The Fourier matrix $ W $ is a complex exponential matrix defined as:  \n",
    "\n",
    "$$ W[n, k] = e^{j 2\\pi nk / N} $$  \n",
    "\n",
    "This matrix is used to transform the frequency-domain data back to the time domain."
   ]
  },
  {
   "cell_type": "code",
   "execution_count": null,
   "metadata": {},
   "outputs": [],
   "source": [
    "n = np.arange(N).reshape(N, 1)  # Column vector for time indices\n",
    "k = np.arange(N).reshape(1, N)  # Row vector for frequency indices\n",
    "W = np.exp(1j * 2 * np.pi * n * k / N)  # Fourier matrix"
   ]
  },
  {
   "cell_type": "markdown",
   "metadata": {},
   "source": [
    "## **5. Compute the IDFT using Matrix Multiplication**  \n",
    "By multiplying the Fourier matrix $ W $ with the frequency-domain vector $ \\mu $, we obtain the reconstructed signal in the time domain. Since IDFT produces complex values, we take only the real part of the result."
   ]
  },
  {
   "cell_type": "code",
   "execution_count": null,
   "metadata": {},
   "outputs": [],
   "source": [
    "x = np.real((1 / N) * W @ mu)"
   ]
  },
  {
   "cell_type": "markdown",
   "metadata": {},
   "source": [
    "## **6. Visualizing the Reconstructed Signal**  \n",
    "We plot the reconstructed discrete-time signal using a stem plot to visualize individual sample points."
   ]
  },
  {
   "cell_type": "code",
   "execution_count": null,
   "metadata": {},
   "outputs": [],
   "source": [
    "plt.stem(np.arange(N), x)"
   ]
  },
  {
   "cell_type": "markdown",
   "metadata": {},
   "source": [
    "## **7. Adding Value Labels**  \n",
    "Each sample point is annotated with its corresponding numerical value to enhance readability."
   ]
  },
  {
   "cell_type": "code",
   "execution_count": null,
   "metadata": {},
   "outputs": [],
   "source": [
    "for i in range(N):\n",
    "    plt.text(i, x[i] + 0.05, f\"{x[i]:.2f}\", ha='center', fontsize=10)"
   ]
  },
  {
   "cell_type": "markdown",
   "metadata": {},
   "source": [
    "## **8. Formatting the Plot**  \n",
    "We add axis labels, a title, and a grid for better visualization."
   ]
  },
  {
   "cell_type": "code",
   "execution_count": null,
   "metadata": {},
   "outputs": [],
   "source": [
    "plt.xlabel(\"n (samples)\")\n",
    "plt.ylabel(\"x[n]\")\n",
    "plt.title(\"Synthesized Signal from IDFT\")\n",
    "plt.grid()\n",
    "plt.show()"
   ]
  },
  {
   "cell_type": "markdown",
   "metadata": {},
   "source": [
    "## **9. Conclusion**  \n",
    "This notebook demonstrates how the Inverse Discrete Fourier Transform (IDFT) can be implemented using matrix multiplication. The approach allows us to reconstruct the time-domain signal from its frequency representation effectively. By leveraging the Fourier matrix, we transform the frequency components back into their corresponding time-domain values, providing insight into the signal’s behavior over time.  "
   ]
  }
 ],
 "metadata": {
  "jupytext": {
   "cell_metadata_filter": "-all",
   "main_language": "python",
   "notebook_metadata_filter": "-all"
  },
  "language_info": {
   "name": "python"
  }
 },
 "nbformat": 4,
 "nbformat_minor": 5
}
